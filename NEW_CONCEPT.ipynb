{
  "nbformat": 4,
  "nbformat_minor": 0,
  "metadata": {
    "colab": {
      "name": "NEW_CONCEPT.ipynb",
      "provenance": [],
      "collapsed_sections": [],
      "authorship_tag": "ABX9TyPdlV4ywVYI+Q/inaHM906X",
      "include_colab_link": true
    },
    "kernelspec": {
      "name": "python3",
      "display_name": "Python 3"
    },
    "language_info": {
      "name": "python"
    }
  },
  "cells": [
    {
      "cell_type": "markdown",
      "metadata": {
        "id": "view-in-github",
        "colab_type": "text"
      },
      "source": [
        "<a href=\"https://colab.research.google.com/github/pratikshas8080/PYTHON_Daily_Code_2021/blob/main/NEW_CONCEPT.ipynb\" target=\"_parent\"><img src=\"https://colab.research.google.com/assets/colab-badge.svg\" alt=\"Open In Colab\"/></a>"
      ]
    },
    {
      "cell_type": "code",
      "metadata": {
        "id": "jWMY5q0DN9PM",
        "colab": {
          "base_uri": "https://localhost:8080/"
        },
        "outputId": "8c235ee6-c255-4309-ee96-d5b2c560b0c9"
      },
      "source": [
        "import json\n",
        "\n",
        "person = '{\"Name\": \"sud\", \"Spekon\": \"English\"}'\n",
        "\n",
        "dict = json.loads(person)\n",
        "\n",
        "print(dict)\n"
      ],
      "execution_count": null,
      "outputs": [
        {
          "output_type": "stream",
          "text": [
            "{'Name': 'sud', 'Spekon': 'English'}\n"
          ],
          "name": "stdout"
        }
      ]
    },
    {
      "cell_type": "markdown",
      "metadata": {
        "id": "NlHjERP0xPdf"
      },
      "source": [
        "## ***Currency Converter Using Python***"
      ]
    },
    {
      "cell_type": "code",
      "metadata": {
        "colab": {
          "base_uri": "https://localhost:8080/"
        },
        "id": "NPkde5W0wfrT",
        "outputId": "8fcd76d9-5ae0-43ce-896d-fe0ccd724acc"
      },
      "source": [
        "pip install forex-python"
      ],
      "execution_count": null,
      "outputs": [
        {
          "output_type": "stream",
          "text": [
            "Collecting forex-python\n",
            "  Downloading https://files.pythonhosted.org/packages/1a/ff/f3f6da21e8fdc6ece355643871749c79a3191fed1cba088cbd0dc597dfee/forex-python-1.5.tar.gz\n",
            "Requirement already satisfied: requests in /usr/local/lib/python3.7/dist-packages (from forex-python) (2.23.0)\n",
            "Collecting simplejson\n",
            "\u001b[?25l  Downloading https://files.pythonhosted.org/packages/a8/04/377418ac1e530ce2a196b54c6552c018fdf1fe776718053efb1f216bffcd/simplejson-3.17.2-cp37-cp37m-manylinux2010_x86_64.whl (128kB)\n",
            "\u001b[K     |████████████████████████████████| 133kB 10.7MB/s \n",
            "\u001b[?25hRequirement already satisfied: chardet<4,>=3.0.2 in /usr/local/lib/python3.7/dist-packages (from requests->forex-python) (3.0.4)\n",
            "Requirement already satisfied: urllib3!=1.25.0,!=1.25.1,<1.26,>=1.21.1 in /usr/local/lib/python3.7/dist-packages (from requests->forex-python) (1.24.3)\n",
            "Requirement already satisfied: idna<3,>=2.5 in /usr/local/lib/python3.7/dist-packages (from requests->forex-python) (2.10)\n",
            "Requirement already satisfied: certifi>=2017.4.17 in /usr/local/lib/python3.7/dist-packages (from requests->forex-python) (2020.12.5)\n",
            "Building wheels for collected packages: forex-python\n",
            "  Building wheel for forex-python (setup.py) ... \u001b[?25l\u001b[?25hdone\n",
            "  Created wheel for forex-python: filename=forex_python-1.5-cp37-none-any.whl size=7235 sha256=c538a4c627c370911ccc4f52cd8c22c4acc912a4ac6fc3d7399464a79f2c9772\n",
            "  Stored in directory: /root/.cache/pip/wheels/c9/ee/ce/a0c208e72d186b786b0c51914675bc03d1bf00b8ed9406271b\n",
            "Successfully built forex-python\n",
            "Installing collected packages: simplejson, forex-python\n",
            "Successfully installed forex-python-1.5 simplejson-3.17.2\n"
          ],
          "name": "stdout"
        }
      ]
    },
    {
      "cell_type": "code",
      "metadata": {
        "colab": {
          "base_uri": "https://localhost:8080/"
        },
        "id": "0bxBxo1BwsvH",
        "outputId": "0e6d604d-1889-49f2-98bd-d05494388779"
      },
      "source": [
        "from forex_python.converter import CurrencyRates\n",
        "\n",
        "c=CurrencyRates() #Creating Instance\n",
        "\n",
        "r=c.convert(\"USD\",\"INR\",1)\n",
        "\n",
        "print(r)"
      ],
      "execution_count": null,
      "outputs": [
        {
          "output_type": "stream",
          "text": [
            "73.5031926362\n"
          ],
          "name": "stdout"
        }
      ]
    },
    {
      "cell_type": "code",
      "metadata": {
        "colab": {
          "base_uri": "https://localhost:8080/"
        },
        "id": "k1tVCYmREA1o",
        "outputId": "dc135906-ac21-4698-92c6-0302e166682a"
      },
      "source": [
        "def arrow(n):\n",
        "  for i in range(n):\n",
        "    if i==n-1:\n",
        "      print((2*n)*\"*\", end=\"\")\n",
        "      print((i+1)*\"*\")\n",
        "    else:\n",
        "      print((2*n) * \" \", end=\"\")\n",
        "      print((i+1)*\"*\")\n",
        "\n",
        "  for j in range(n-1,0,-1):\n",
        "    print((2*n)*\" \", end=\"\")\n",
        "    print(j*\"*\")\n",
        "\n",
        "arrow(5)"
      ],
      "execution_count": null,
      "outputs": [
        {
          "output_type": "stream",
          "text": [
            "          *\n",
            "          **\n",
            "          ***\n",
            "          ****\n",
            "***************\n",
            "          ****\n",
            "          ***\n",
            "          **\n",
            "          *\n"
          ],
          "name": "stdout"
        }
      ]
    },
    {
      "cell_type": "code",
      "metadata": {
        "colab": {
          "base_uri": "https://localhost:8080/"
        },
        "id": "-4ekudbR2nfU",
        "outputId": "8d992b89-1caa-48b8-e4a7-badbafb68b57"
      },
      "source": [
        "line = 'aaa,bbb,ccccc,dd'\n",
        "line.split(',')"
      ],
      "execution_count": null,
      "outputs": [
        {
          "output_type": "execute_result",
          "data": {
            "text/plain": [
              "['aaa', 'bbb', 'ccccc', 'dd']"
            ]
          },
          "metadata": {
            "tags": []
          },
          "execution_count": 1
        }
      ]
    },
    {
      "cell_type": "code",
      "metadata": {
        "colab": {
          "base_uri": "https://localhost:8080/"
        },
        "id": "6z3K_syC2yEo",
        "outputId": "c0b809bb-c7e0-4b20-a374-b70f202bd93a"
      },
      "source": [
        "S = 'spam'\n",
        "S.upper()\n",
        "S.isalpha()"
      ],
      "execution_count": null,
      "outputs": [
        {
          "output_type": "execute_result",
          "data": {
            "text/plain": [
              "True"
            ]
          },
          "metadata": {
            "tags": []
          },
          "execution_count": 2
        }
      ]
    },
    {
      "cell_type": "code",
      "metadata": {
        "colab": {
          "base_uri": "https://localhost:8080/"
        },
        "id": "iN74OAtF28SM",
        "outputId": "bc09ec91-9873-4d99-88f9-e4fb54f3d7c6"
      },
      "source": [
        "line = 'aaa,bbb,ccccc,dd\\n'\n",
        "line.rstrip()\n",
        "line.rstrip().split(',')"
      ],
      "execution_count": null,
      "outputs": [
        {
          "output_type": "execute_result",
          "data": {
            "text/plain": [
              "['aaa', 'bbb', 'ccccc', 'dd']"
            ]
          },
          "metadata": {
            "tags": []
          },
          "execution_count": 3
        }
      ]
    },
    {
      "cell_type": "code",
      "metadata": {
        "colab": {
          "base_uri": "https://localhost:8080/",
          "height": 35
        },
        "id": "Oc_m7-tP3HCt",
        "outputId": "f994f97a-9e3b-4d12-c987-a45bdb0d32ca"
      },
      "source": [
        "'%s, eggs, and %s' % ('spam', 'SPAM!')"
      ],
      "execution_count": null,
      "outputs": [
        {
          "output_type": "execute_result",
          "data": {
            "application/vnd.google.colaboratory.intrinsic+json": {
              "type": "string"
            },
            "text/plain": [
              "'spam, eggs, and SPAM!'"
            ]
          },
          "metadata": {
            "tags": []
          },
          "execution_count": 4
        }
      ]
    },
    {
      "cell_type": "code",
      "metadata": {
        "colab": {
          "base_uri": "https://localhost:8080/",
          "height": 35
        },
        "id": "SpKhJlZq3Upp",
        "outputId": "32c0efe8-bf7e-4bdb-ff96-6c01159bd6e1"
      },
      "source": [
        "'{0}, eggs, and {1}'.format('spam', 'SPAM!')"
      ],
      "execution_count": null,
      "outputs": [
        {
          "output_type": "execute_result",
          "data": {
            "application/vnd.google.colaboratory.intrinsic+json": {
              "type": "string"
            },
            "text/plain": [
              "'spam, eggs, and SPAM!'"
            ]
          },
          "metadata": {
            "tags": []
          },
          "execution_count": 5
        }
      ]
    },
    {
      "cell_type": "code",
      "metadata": {
        "colab": {
          "base_uri": "https://localhost:8080/",
          "height": 35
        },
        "id": "l8N6l8iE3ZI0",
        "outputId": "5ee58edb-ac86-4782-f16e-df909a54afda"
      },
      "source": [
        "'{}, eggs, and {}'.format('spam', 'SPAM!')"
      ],
      "execution_count": null,
      "outputs": [
        {
          "output_type": "execute_result",
          "data": {
            "application/vnd.google.colaboratory.intrinsic+json": {
              "type": "string"
            },
            "text/plain": [
              "'spam, eggs, and SPAM!'"
            ]
          },
          "metadata": {
            "tags": []
          },
          "execution_count": 6
        }
      ]
    },
    {
      "cell_type": "code",
      "metadata": {
        "colab": {
          "base_uri": "https://localhost:8080/",
          "height": 35
        },
        "id": "-fNHTWMD3dYJ",
        "outputId": "5ea6b64e-3332-45d1-e096-62cbd013a93f"
      },
      "source": [
        "'{:,.2f}'.format(296999.2567)"
      ],
      "execution_count": null,
      "outputs": [
        {
          "output_type": "execute_result",
          "data": {
            "application/vnd.google.colaboratory.intrinsic+json": {
              "type": "string"
            },
            "text/plain": [
              "'296,999.26'"
            ]
          },
          "metadata": {
            "tags": []
          },
          "execution_count": 7
        }
      ]
    },
    {
      "cell_type": "code",
      "metadata": {
        "colab": {
          "base_uri": "https://localhost:8080/",
          "height": 35
        },
        "id": "BgCO0h9b3mbl",
        "outputId": "b5b957d7-996c-431e-aedb-57212a43733f"
      },
      "source": [
        "import re\n",
        "match = re.match('Hello[ \\t]*(.*)world', 'Hello    Python world')\n",
        "match.group(1)"
      ],
      "execution_count": 1,
      "outputs": [
        {
          "output_type": "execute_result",
          "data": {
            "application/vnd.google.colaboratory.intrinsic+json": {
              "type": "string"
            },
            "text/plain": [
              "'Python '"
            ]
          },
          "metadata": {
            "tags": []
          },
          "execution_count": 1
        }
      ]
    },
    {
      "cell_type": "code",
      "metadata": {
        "colab": {
          "base_uri": "https://localhost:8080/"
        },
        "id": "DU0vBejXXO2z",
        "outputId": "c163183d-f96e-46c2-8701-76d29fd0bc63"
      },
      "source": [
        "match = re.match('[/:](.*)[/:](.*)[/:](.*)', '/usr/home:lumberjack')\n",
        "match.groups()\n",
        "\n",
        "re.split('[/:]', '/usr/home:lumberjack')"
      ],
      "execution_count": 2,
      "outputs": [
        {
          "output_type": "execute_result",
          "data": {
            "text/plain": [
              "['', 'usr', 'home', 'lumberjack']"
            ]
          },
          "metadata": {
            "tags": []
          },
          "execution_count": 2
        }
      ]
    },
    {
      "cell_type": "code",
      "metadata": {
        "colab": {
          "base_uri": "https://localhost:8080/"
        },
        "id": "bSSYELUSXaAf",
        "outputId": "13c5651f-53ef-443b-876a-ae8d573fd3e6"
      },
      "source": [
        "#Lists\n",
        "#Sequence Operations\n",
        "L = [123, 'spam', 1.23]\n",
        "len(L)\n",
        "L[0]\n",
        "L[:-1]\n",
        "L + [4, 5, 6]\n",
        "L * 2\n",
        "print(L)"
      ],
      "execution_count": 4,
      "outputs": [
        {
          "output_type": "stream",
          "text": [
            "[123, 'spam', 1.23]\n"
          ],
          "name": "stdout"
        }
      ]
    },
    {
      "cell_type": "code",
      "metadata": {
        "id": "YwlAYrTbYONI"
      },
      "source": [
        "#Type-Specific Operations\n"
      ],
      "execution_count": null,
      "outputs": []
    }
  ]
}