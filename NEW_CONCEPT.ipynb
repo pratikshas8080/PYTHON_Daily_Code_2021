{
  "nbformat": 4,
  "nbformat_minor": 0,
  "metadata": {
    "colab": {
      "name": "NEW_CONCEPT.ipynb",
      "provenance": [],
      "collapsed_sections": [],
      "authorship_tag": "ABX9TyPakGVSKtQW/foJYs+9Zi35",
      "include_colab_link": true
    },
    "kernelspec": {
      "name": "python3",
      "display_name": "Python 3"
    },
    "language_info": {
      "name": "python"
    }
  },
  "cells": [
    {
      "cell_type": "markdown",
      "metadata": {
        "id": "view-in-github",
        "colab_type": "text"
      },
      "source": [
        "<a href=\"https://colab.research.google.com/github/pratikshas8080/PYTHON_Daily_Code_2021/blob/main/NEW_CONCEPT.ipynb\" target=\"_parent\"><img src=\"https://colab.research.google.com/assets/colab-badge.svg\" alt=\"Open In Colab\"/></a>"
      ]
    },
    {
      "cell_type": "code",
      "metadata": {
        "id": "jWMY5q0DN9PM",
        "colab": {
          "base_uri": "https://localhost:8080/"
        },
        "outputId": "8c235ee6-c255-4309-ee96-d5b2c560b0c9"
      },
      "source": [
        "import json\n",
        "\n",
        "person = '{\"Name\": \"sud\", \"Spekon\": \"English\"}'\n",
        "\n",
        "dict = json.loads(person)\n",
        "\n",
        "print(dict)\n"
      ],
      "execution_count": null,
      "outputs": [
        {
          "output_type": "stream",
          "text": [
            "{'Name': 'sud', 'Spekon': 'English'}\n"
          ],
          "name": "stdout"
        }
      ]
    },
    {
      "cell_type": "markdown",
      "metadata": {
        "id": "NlHjERP0xPdf"
      },
      "source": [
        "## ***Currency Converter Using Python***"
      ]
    },
    {
      "cell_type": "code",
      "metadata": {
        "colab": {
          "base_uri": "https://localhost:8080/"
        },
        "id": "NPkde5W0wfrT",
        "outputId": "8fcd76d9-5ae0-43ce-896d-fe0ccd724acc"
      },
      "source": [
        "pip install forex-python"
      ],
      "execution_count": null,
      "outputs": [
        {
          "output_type": "stream",
          "text": [
            "Collecting forex-python\n",
            "  Downloading https://files.pythonhosted.org/packages/1a/ff/f3f6da21e8fdc6ece355643871749c79a3191fed1cba088cbd0dc597dfee/forex-python-1.5.tar.gz\n",
            "Requirement already satisfied: requests in /usr/local/lib/python3.7/dist-packages (from forex-python) (2.23.0)\n",
            "Collecting simplejson\n",
            "\u001b[?25l  Downloading https://files.pythonhosted.org/packages/a8/04/377418ac1e530ce2a196b54c6552c018fdf1fe776718053efb1f216bffcd/simplejson-3.17.2-cp37-cp37m-manylinux2010_x86_64.whl (128kB)\n",
            "\u001b[K     |████████████████████████████████| 133kB 10.7MB/s \n",
            "\u001b[?25hRequirement already satisfied: chardet<4,>=3.0.2 in /usr/local/lib/python3.7/dist-packages (from requests->forex-python) (3.0.4)\n",
            "Requirement already satisfied: urllib3!=1.25.0,!=1.25.1,<1.26,>=1.21.1 in /usr/local/lib/python3.7/dist-packages (from requests->forex-python) (1.24.3)\n",
            "Requirement already satisfied: idna<3,>=2.5 in /usr/local/lib/python3.7/dist-packages (from requests->forex-python) (2.10)\n",
            "Requirement already satisfied: certifi>=2017.4.17 in /usr/local/lib/python3.7/dist-packages (from requests->forex-python) (2020.12.5)\n",
            "Building wheels for collected packages: forex-python\n",
            "  Building wheel for forex-python (setup.py) ... \u001b[?25l\u001b[?25hdone\n",
            "  Created wheel for forex-python: filename=forex_python-1.5-cp37-none-any.whl size=7235 sha256=c538a4c627c370911ccc4f52cd8c22c4acc912a4ac6fc3d7399464a79f2c9772\n",
            "  Stored in directory: /root/.cache/pip/wheels/c9/ee/ce/a0c208e72d186b786b0c51914675bc03d1bf00b8ed9406271b\n",
            "Successfully built forex-python\n",
            "Installing collected packages: simplejson, forex-python\n",
            "Successfully installed forex-python-1.5 simplejson-3.17.2\n"
          ],
          "name": "stdout"
        }
      ]
    },
    {
      "cell_type": "code",
      "metadata": {
        "colab": {
          "base_uri": "https://localhost:8080/"
        },
        "id": "0bxBxo1BwsvH",
        "outputId": "0e6d604d-1889-49f2-98bd-d05494388779"
      },
      "source": [
        "from forex_python.converter import CurrencyRates\n",
        "\n",
        "c=CurrencyRates() #Creating Instance\n",
        "\n",
        "r=c.convert(\"USD\",\"INR\",1)\n",
        "\n",
        "print(r)"
      ],
      "execution_count": null,
      "outputs": [
        {
          "output_type": "stream",
          "text": [
            "73.5031926362\n"
          ],
          "name": "stdout"
        }
      ]
    },
    {
      "cell_type": "code",
      "metadata": {
        "colab": {
          "base_uri": "https://localhost:8080/"
        },
        "id": "k1tVCYmREA1o",
        "outputId": "512103d4-dff0-4758-b348-19891745f3c0"
      },
      "source": [
        "def arrow(n):\n",
        "  for i in range(n):\n",
        "    if i==n-1:\n",
        "      print((2*n)*\"*\", end=\"\")\n",
        "      print((i+1)*\"*\")\n",
        "    else:\n",
        "      print((2*n) * \" \", end=\"\")\n",
        "\n",
        "  for j in range(n-1,0,-1):\n",
        "    print((2*n)*\" \", end=\"\")\n",
        "    print(j*\"*\")\n",
        "\n",
        "arrow(5)"
      ],
      "execution_count": 2,
      "outputs": [
        {
          "output_type": "stream",
          "text": [
            "                                        ***************\n",
            "          ****\n",
            "          ***\n",
            "          **\n",
            "          *\n"
          ],
          "name": "stdout"
        }
      ]
    }
  ]
}