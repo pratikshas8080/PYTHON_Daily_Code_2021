{
  "nbformat": 4,
  "nbformat_minor": 0,
  "metadata": {
    "colab": {
      "name": "python_5th_Edition.ipynb",
      "provenance": [],
      "collapsed_sections": [],
      "authorship_tag": "ABX9TyOBu/HH1XuLqZHHX5Ii1WVL",
      "include_colab_link": true
    },
    "kernelspec": {
      "name": "python3",
      "display_name": "Python 3"
    },
    "language_info": {
      "name": "python"
    }
  },
  "cells": [
    {
      "cell_type": "markdown",
      "metadata": {
        "id": "view-in-github",
        "colab_type": "text"
      },
      "source": [
        "<a href=\"https://colab.research.google.com/github/pratikshas8080/PYTHON_Daily_Code_2021/blob/main/python_5th_Edition.ipynb\" target=\"_parent\"><img src=\"https://colab.research.google.com/assets/colab-badge.svg\" alt=\"Open In Colab\"/></a>"
      ]
    },
    {
      "cell_type": "code",
      "metadata": {
        "colab": {
          "base_uri": "https://localhost:8080/"
        },
        "id": "06-mwiYzbfvc",
        "outputId": "fdea170c-3b38-409c-bc79-0cebb3266929"
      },
      "source": [
        "# A first Python script\n",
        "import sys                  # Load a library module\n",
        "print(sys.platform)\n",
        "print(2 ** 100)             # Raise 2 to a power\n",
        "x = 'Spam!'\n",
        "print(x * 8)                # String repetition"
      ],
      "execution_count": null,
      "outputs": [
        {
          "output_type": "stream",
          "text": [
            "linux\n",
            "1267650600228229401496703205376\n",
            "Spam!Spam!Spam!Spam!Spam!Spam!Spam!Spam!\n"
          ],
          "name": "stdout"
        }
      ]
    },
    {
      "cell_type": "code",
      "metadata": {
        "colab": {
          "base_uri": "https://localhost:8080/"
        },
        "id": "ytcQv8oMGCt4",
        "outputId": "831abdff-00e7-4696-925c-6d3e985705a1"
      },
      "source": [
        "int(3.1415)     # Truncates float to integer"
      ],
      "execution_count": null,
      "outputs": [
        {
          "output_type": "execute_result",
          "data": {
            "text/plain": [
              "3"
            ]
          },
          "metadata": {
            "tags": []
          },
          "execution_count": 1
        }
      ]
    },
    {
      "cell_type": "code",
      "metadata": {
        "colab": {
          "base_uri": "https://localhost:8080/"
        },
        "id": "EzouboFsJsg8",
        "outputId": "250b1371-3f2b-41d1-a749-fff6f0a81db6"
      },
      "source": [
        "float(3)        # Converts integer to float"
      ],
      "execution_count": null,
      "outputs": [
        {
          "output_type": "execute_result",
          "data": {
            "text/plain": [
              "3.0"
            ]
          },
          "metadata": {
            "tags": []
          },
          "execution_count": 2
        }
      ]
    },
    {
      "cell_type": "markdown",
      "metadata": {
        "id": "yW2SqCSuKey7"
      },
      "source": [
        "Variables and Basic Expressions\n",
        "\n"
      ]
    },
    {
      "cell_type": "code",
      "metadata": {
        "colab": {
          "base_uri": "https://localhost:8080/"
        },
        "id": "TyBXemqAKfum",
        "outputId": "9d5fdfd7-2b0d-475d-af75-161adcb6cb77"
      },
      "source": [
        "a = 3   # Name created: not declared ahead of time\n",
        "print(a)"
      ],
      "execution_count": null,
      "outputs": [
        {
          "output_type": "stream",
          "text": [
            "3\n"
          ],
          "name": "stdout"
        }
      ]
    },
    {
      "cell_type": "code",
      "metadata": {
        "colab": {
          "base_uri": "https://localhost:8080/"
        },
        "id": "nEp_m6U1K2Km",
        "outputId": "74cc676a-3592-40a3-bb72-2b9140efb8cb"
      },
      "source": [
        "a=30\n",
        "\n",
        "print(a + 1, a-1)         # Addition (3 + 1), subtraction (3 − 1)"
      ],
      "execution_count": null,
      "outputs": [
        {
          "output_type": "stream",
          "text": [
            "31 29\n"
          ],
          "name": "stdout"
        }
      ]
    }
  ]
}