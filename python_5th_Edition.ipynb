{
  "nbformat": 4,
  "nbformat_minor": 0,
  "metadata": {
    "colab": {
      "name": "python_5th_Edition.ipynb",
      "provenance": [],
      "collapsed_sections": [],
      "authorship_tag": "ABX9TyNq2GGoeFuwgJpP1yE2qsm4",
      "include_colab_link": true
    },
    "kernelspec": {
      "name": "python3",
      "display_name": "Python 3"
    },
    "language_info": {
      "name": "python"
    }
  },
  "cells": [
    {
      "cell_type": "markdown",
      "metadata": {
        "id": "view-in-github",
        "colab_type": "text"
      },
      "source": [
        "<a href=\"https://colab.research.google.com/github/pratikshas8080/PYTHON_Daily_Code_2021/blob/main/python_5th_Edition.ipynb\" target=\"_parent\"><img src=\"https://colab.research.google.com/assets/colab-badge.svg\" alt=\"Open In Colab\"/></a>"
      ]
    },
    {
      "cell_type": "code",
      "metadata": {
        "colab": {
          "base_uri": "https://localhost:8080/"
        },
        "id": "06-mwiYzbfvc",
        "outputId": "fdea170c-3b38-409c-bc79-0cebb3266929"
      },
      "source": [
        "# A first Python script\n",
        "import sys                  # Load a library module\n",
        "print(sys.platform)\n",
        "print(2 ** 100)             # Raise 2 to a power\n",
        "x = 'Spam!'\n",
        "print(x * 8)                # String repetition"
      ],
      "execution_count": 1,
      "outputs": [
        {
          "output_type": "stream",
          "text": [
            "linux\n",
            "1267650600228229401496703205376\n",
            "Spam!Spam!Spam!Spam!Spam!Spam!Spam!Spam!\n"
          ],
          "name": "stdout"
        }
      ]
    }
  ]
}