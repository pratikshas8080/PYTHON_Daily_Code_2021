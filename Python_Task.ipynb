{
  "nbformat": 4,
  "nbformat_minor": 0,
  "metadata": {
    "colab": {
      "name": "Python-Task.ipynb",
      "provenance": [],
      "authorship_tag": "ABX9TyMRxjImJcD5KnkvqD5u6zoy",
      "include_colab_link": true
    },
    "kernelspec": {
      "name": "python3",
      "display_name": "Python 3"
    },
    "language_info": {
      "name": "python"
    }
  },
  "cells": [
    {
      "cell_type": "markdown",
      "metadata": {
        "id": "view-in-github",
        "colab_type": "text"
      },
      "source": [
        "<a href=\"https://colab.research.google.com/github/pratikshas8080/PYTHON_Daily_Code_2021/blob/main/Python_Task.ipynb\" target=\"_parent\"><img src=\"https://colab.research.google.com/assets/colab-badge.svg\" alt=\"Open In Colab\"/></a>"
      ]
    },
    {
      "cell_type": "code",
      "metadata": {
        "id": "7l6DddHzp8VR",
        "colab": {
          "base_uri": "https://localhost:8080/"
        },
        "outputId": "ef351ab4-07ca-427c-b3d8-d7ab8f56cc8d"
      },
      "source": [
        "num1=[1, 2,3]\n",
        "\n",
        "num2=[4,5,6]\n",
        "\n",
        "num3=[7,8,9]\n",
        "\n",
        "print(\"Original List:\")\n",
        "print(num1)\n",
        "print(num2)\n",
        "print(num3)\n",
        "\n",
        "result=map(lambda x,y,z:x+y+z,num1, num2, num3)\n",
        "\n",
        "print(\"\\nNew list After Adding Above Three Lists:\")\n",
        "print(list(result))"
      ],
      "execution_count": 4,
      "outputs": [
        {
          "output_type": "stream",
          "text": [
            "Original List:\n",
            "[1, 2, 3]\n",
            "[4, 5, 6]\n",
            "[7, 8, 9]\n",
            "\n",
            "New list After Adding Above Three Lists:\n",
            "[12, 15, 18]\n"
          ],
          "name": "stdout"
        }
      ]
    }
  ]
}